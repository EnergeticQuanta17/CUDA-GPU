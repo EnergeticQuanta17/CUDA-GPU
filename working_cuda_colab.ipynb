{
  "nbformat": 4,
  "nbformat_minor": 0,
  "metadata": {
    "colab": {
      "provenance": []
    },
    "kernelspec": {
      "name": "python3",
      "display_name": "Python 3"
    },
    "language_info": {
      "name": "python"
    },
    "accelerator": "GPU"
  },
  "cells": [
    {
      "cell_type": "code",
      "source": [
        "# To show that if there is cuda tookit installed\n",
        "!ls /usr/local"
      ],
      "metadata": {
        "id": "FJNaVYXrsyX1",
        "colab": {
          "base_uri": "https://localhost:8080/"
        },
        "outputId": "35d60905-ec6e-477e-c0c0-9c8bc9ed877c"
      },
      "execution_count": 1,
      "outputs": [
        {
          "output_type": "stream",
          "name": "stdout",
          "text": [
            "bin    cuda\tcuda-11.8  games\t       include\tlib64\t   man\t share\n",
            "colab  cuda-11\tetc\t   _gcs_config_ops.so  lib\tlicensing  sbin  src\n"
          ]
        }
      ]
    },
    {
      "cell_type": "code",
      "source": [
        "# To show that if we have the nvcc command\n",
        "!which nvcc"
      ],
      "metadata": {
        "id": "EWeDREa1tIGH",
        "colab": {
          "base_uri": "https://localhost:8080/"
        },
        "outputId": "409e2834-92a9-4402-dbb5-85261d2b6cca"
      },
      "execution_count": 2,
      "outputs": [
        {
          "output_type": "stream",
          "name": "stdout",
          "text": [
            "/usr/local/cuda/bin/nvcc\n"
          ]
        }
      ]
    },
    {
      "cell_type": "code",
      "source": [
        "# To show the property of the nvidia card(On my one, I use the K80)\n",
        "!nvidia-smi"
      ],
      "metadata": {
        "id": "hctj5aYxtSwK",
        "colab": {
          "base_uri": "https://localhost:8080/"
        },
        "outputId": "5e52a752-808c-4138-f2cb-0dc5169d497f"
      },
      "execution_count": 3,
      "outputs": [
        {
          "output_type": "stream",
          "name": "stdout",
          "text": [
            "Sun Apr 16 04:52:35 2023       \n",
            "+-----------------------------------------------------------------------------+\n",
            "| NVIDIA-SMI 525.85.12    Driver Version: 525.85.12    CUDA Version: 12.0     |\n",
            "|-------------------------------+----------------------+----------------------+\n",
            "| GPU  Name        Persistence-M| Bus-Id        Disp.A | Volatile Uncorr. ECC |\n",
            "| Fan  Temp  Perf  Pwr:Usage/Cap|         Memory-Usage | GPU-Util  Compute M. |\n",
            "|                               |                      |               MIG M. |\n",
            "|===============================+======================+======================|\n",
            "|   0  Tesla T4            Off  | 00000000:00:04.0 Off |                    0 |\n",
            "| N/A   47C    P8     9W /  70W |      0MiB / 15360MiB |      0%      Default |\n",
            "|                               |                      |                  N/A |\n",
            "+-------------------------------+----------------------+----------------------+\n",
            "                                                                               \n",
            "+-----------------------------------------------------------------------------+\n",
            "| Processes:                                                                  |\n",
            "|  GPU   GI   CI        PID   Type   Process name                  GPU Memory |\n",
            "|        ID   ID                                                   Usage      |\n",
            "|=============================================================================|\n",
            "|  No running processes found                                                 |\n",
            "+-----------------------------------------------------------------------------+\n"
          ]
        }
      ]
    },
    {
      "cell_type": "code",
      "source": [
        "%%writefile l9q1a.cu\n",
        "#include \"cuda_runtime.h\"\n",
        "#include \"device_launch_parameters.h\"\n",
        "#include <stdio.h>\n",
        "#include <stdlib.h>\n",
        "__global__ void add_a(int *a, int *b, int *t)\n",
        "{\n",
        "\tint size=gridDim.x;\n",
        "\tint ind = blockIdx.x;\n",
        "\tint n=sizeof(a)/size;\n",
        "\n",
        "\tfor(int i=0;i<n;i++)\n",
        "\t\tt[n*ind+i] = a[n*ind+i] + b[n*ind+i];\n",
        "}\n",
        "int main(void)\n",
        "{\n",
        "\tint m,n,i,j;\n",
        "\tint *d_a,*d_t, *d_b;\n",
        "\tprintf(\"Enter the value of m: \");scanf(\"%d\",&m);\n",
        "\tprintf(\"Enter the value of n: \");scanf(\"%d\",&n);\n",
        "\tint size=sizeof(int)*m*n;\n",
        "\n",
        "\tprintf(\"Enter input matrix A:\\n\");\n",
        "\n",
        "\tint a[m*n], b[m*n], t[m*n];\n",
        "\tfor(i=0;i<m*n;i++)\n",
        "\t\tscanf(\"%d\",&a[i]);\n",
        "\n",
        "\tprintf(\"Enter input matrix B:\\n\");\n",
        "\tfor(i=0;i<m*n;i++)\n",
        "\t\tscanf(\"%d\",&b[i]);\n",
        "\n",
        "\tcudaMalloc((void**)&d_a,size);\n",
        "\tcudaMalloc((void**)&d_b,size);\n",
        "\tcudaMalloc((void**)&d_t,size);\n",
        "\n",
        "\tcudaMemcpy(d_a,a,size,cudaMemcpyHostToDevice);\n",
        "\tcudaMemcpy(d_b,b,size,cudaMemcpyHostToDevice);\n",
        "\n",
        "\tdim3 bb(m,n);\n",
        "\tadd_a<<<m, 1>>>(d_a, d_b, d_t);\n",
        "\tprintf(\"cuda successfully ran!\\n\");\n",
        "\n",
        "\tcudaMemcpy(t,d_t,size,cudaMemcpyDeviceToHost);\n",
        "\tprintf(\"cuda successfully ran!\\n\");\n",
        "\n",
        "\tprintf(\"Result matrix is:\\n\");\n",
        "\tfor(i=0;i<m;i++)\n",
        "\t{\n",
        "\t\tfor(j=0;j<n;j++)\n",
        "\t\t\tprintf(\"%d\\t\",t[i*m+j]);\n",
        "\t\tprintf(\"\\n\");\n",
        "\t}\n",
        "\n",
        "\tgetchar();\n",
        "\tcudaFree(d_a);\n",
        "\tcudaFree(d_b);\n",
        "\tcudaFree(d_t);\n",
        "\treturn 0;\n",
        "}"
      ],
      "metadata": {
        "colab": {
          "base_uri": "https://localhost:8080/"
        },
        "id": "I4iAoMrRa1zM",
        "outputId": "105bb9c6-91cf-40c7-b736-1690402a2ac8"
      },
      "execution_count": 8,
      "outputs": [
        {
          "output_type": "stream",
          "name": "stdout",
          "text": [
            "Writing l9q1a.cu\n"
          ]
        }
      ]
    },
    {
      "cell_type": "code",
      "source": [
        "!nvcc -arch=sm_37 -gencode=arch=compute_37,code=sm_37 l9q1a.cu -o l9q1a"
      ],
      "metadata": {
        "colab": {
          "base_uri": "https://localhost:8080/"
        },
        "id": "MgZKDm09a8V2",
        "outputId": "b2874b2e-785b-4253-cc4d-edecf968480d"
      },
      "execution_count": 9,
      "outputs": [
        {
          "output_type": "stream",
          "name": "stdout",
          "text": [
            "nvcc warning : The 'compute_35', 'compute_37', 'sm_35', and 'sm_37' architectures are deprecated, and may be removed in a future release (Use -Wno-deprecated-gpu-targets to suppress warning).\n"
          ]
        }
      ]
    },
    {
      "cell_type": "code",
      "source": [
        "!./l9q1a"
      ],
      "metadata": {
        "colab": {
          "base_uri": "https://localhost:8080/"
        },
        "id": "8crnGl6DaLwN",
        "outputId": "50550ef8-61c2-4f8b-8e8e-030ea214459f"
      },
      "execution_count": 10,
      "outputs": [
        {
          "output_type": "stream",
          "name": "stdout",
          "text": [
            "Enter the value of m: 2\n",
            "Enter the value of n: 2\n",
            "Enter input matrix A:\n",
            "1 2 3 4\n",
            "Enter input matrix B:\n",
            "1 2 3 4\n",
            "cuda successfully ran!\n",
            "cuda successfully ran!\n",
            "Result matrix is:\n",
            "2\t4\t\n",
            "6\t8\t\n"
          ]
        }
      ]
    }
  ]
}